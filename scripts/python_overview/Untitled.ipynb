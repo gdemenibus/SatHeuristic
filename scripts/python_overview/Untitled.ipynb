{
 "cells": [
  {
   "cell_type": "code",
   "execution_count": 10,
   "id": "e7fc1d2d-4764-4683-b551-b10bec980570",
   "metadata": {},
   "outputs": [
    {
     "name": "stdout",
     "output_type": "stream",
     "text": [
      "Defaulting to user installation because normal site-packages is not writeable\n",
      "Requirement already satisfied: pypblib in /home/doom/.local/lib/python3.11/site-packages (0.0.4)\n",
      "Note: you may need to restart the kernel to use updated packages.\n"
     ]
    }
   ],
   "source": []
  },
  {
   "cell_type": "code",
   "execution_count": 11,
   "id": "00198e8d-c2ec-457f-ae64-20bc7effdd26",
   "metadata": {},
   "outputs": [
    {
     "name": "stdout",
     "output_type": "stream",
     "text": [
      "[[4], [-1, -5], [-2, -5], [5, -3, -6], [6]]\n"
     ]
    }
   ],
   "source": [
    "\n",
    "\n",
    "# ID Generator gives us the max, so we need to do some fucking mapping for this to work\n",
    "# Map the new variables to be in the old\n",
    "# if var < id, map to that\n",
    "\n",
    "def function(lits, weights, bound, top_id):\n",
    "    import pysat.pb\n",
    "    cnf = pysat.pb.PBEnc.atmost(lits=lits, weights=weights, bound=bound, top_id=top_id)\n",
    "    print(cnf.clauses)\n",
    "\n",
    "function([1, 2, 3],[1, 2, 3],3,0)"
   ]
  },
  {
   "cell_type": "code",
   "execution_count": null,
   "id": "2fbc2364-ef18-488f-aa6a-352f611d285c",
   "metadata": {},
   "outputs": [],
   "source": []
  }
 ],
 "metadata": {
  "kernelspec": {
   "display_name": "Python 3 (ipykernel)",
   "language": "python",
   "name": "python3"
  },
  "language_info": {
   "codemirror_mode": {
    "name": "ipython",
    "version": 3
   },
   "file_extension": ".py",
   "mimetype": "text/x-python",
   "name": "python",
   "nbconvert_exporter": "python",
   "pygments_lexer": "ipython3",
   "version": "3.11.3"
  }
 },
 "nbformat": 4,
 "nbformat_minor": 5
}
